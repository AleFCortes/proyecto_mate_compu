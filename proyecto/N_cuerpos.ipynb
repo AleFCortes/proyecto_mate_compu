{
 "metadata": {
  "name": "",
  "signature": "sha256:0b37fbad54233d3d81c52dd5c0a469f6adfeeca75142a9795230b43b6131cc06"
 },
 "nbformat": 3,
 "nbformat_minor": 0,
 "worksheets": [
  {
   "cells": [
    {
     "cell_type": "code",
     "collapsed": false,
     "input": [
      "%pylab inline\n",
      "import numpy as np\n",
      "import matplotlib.pyplot as plt\n",
      "from __future__ import division"
     ],
     "language": "python",
     "metadata": {},
     "outputs": [
      {
       "output_type": "stream",
       "stream": "stdout",
       "text": [
        "Populating the interactive namespace from numpy and matplotlib\n"
       ]
      }
     ],
     "prompt_number": 1
    },
    {
     "cell_type": "code",
     "collapsed": false,
     "input": [
      "class Particula:\n",
      "    \n",
      "    def __init__(self, posicion, velocidad, masa):\n",
      "        self.masa = masa\n",
      "        self.posicion = posicion\n",
      "        self.velocidad = velocidad\n",
      "        self.posicion_x = posicion[:,0]\n",
      "        self.posicion_y = posicion[:, 1]\n",
      "        self.velocidad_x = velocidad[:, 0]\n",
      "        self.velocidad_y = velocidad[:, 1]\n",
      "        self.G = 6.67384e-11\n",
      "    \"\"\"    \n",
      "    def posicion_x(self):\n",
      "        return self.posicion[:, 0]\n",
      "    \n",
      "    def posicion_y(self):    \n",
      "        return self.posicion[:, 1]\n",
      "    \n",
      "    def velocidad_x(self):\n",
      "        return self.velocidad[:, 0]\n",
      "    \n",
      "    def velocidad_y(self):\n",
      "        return self.velocidad[:, 1]\n",
      "    \n",
      "    \"\"\"\n",
      "         \n",
      "    def mover(self, fuerza, dt):\n",
      "        self.N = len(self.posicion_x)\n",
      "        self.aceleracion_x = fuerza[0] / self.masa\n",
      "        self.aceleracion_y = fuerza[1] / self.masa\n",
      "        \n",
      "        \n",
      "        for i in range(0, self.N - 1):\n",
      "            self.velocidad_x[i+1] = self.velocidad_x[0] + (i+1)*(dt/self.N) * self.aceleracion_x\n",
      "            self.posicion_x[i+1] = self.velocidad_x[0] * (i+1)*(dt/self.N) + (0.5) * self.aceleracion_x * ((i+1)*dt/self.N)**2 + self.posicion_x[0]\n",
      "            \n",
      "            self.velocidad_y[i+1] = self.velocidad_y[0] + (i+1)*(dt/self.N) * self.aceleracion_y\n",
      "            self.posicion_y[i+1] = self.velocidad_y[0] * (i+1)*(dt/self.N) + (0.5) * self.aceleracion_y * ((i+1)*dt/self.N)**2 + self.posicion_y[0]\n",
      "        \n",
      "        \"\"\"\n",
      "        \n",
      "        i = 0\n",
      "        \n",
      "        self.velocidad_x[i+1] = self.velocidad_x[i] + dt * self.aceleracion_x\n",
      "        self.posicion_x[i+1] = self.velocidad_x[i] * dt + (0.5) * self.aceleracion_x * dt**2 + self.posicion_x[i]\n",
      "            \n",
      "        self.velocidad_y[i+1] = self.velocidad_y[i] + dt * self.aceleracion_y\n",
      "        self.posicion_y[i+1] = self.velocidad_y[i] * dt + (0.5) * self.aceleracion_y * dt**2 + self.posicion_y[i]\n",
      "        \n",
      "        \"\"\"\n",
      "\n",
      "    \n",
      "    def mover_tiempo_t(self, fuerza, dt, t):\n",
      "        self.t = t\n",
      "        self.N = len(self.posicion_x) - t\n",
      "        self.aceleracion_x = fuerza[0] / self.masa\n",
      "        self.aceleracion_y = fuerza[1] / self.masa\n",
      "        \n",
      "        for i in range(t-1, self.N - 1 + t):\n",
      "            self.velocidad_x[i+1] = self.velocidad_x[0] + (i+1)*(dt/self.N) * self.aceleracion_x\n",
      "            self.posicion_x[i+1] = self.velocidad_x[0] * (i+1)*(dt/self.N) + (0.5) * self.aceleracion_x * ((i+1)*dt/self.N)**2 + self.posicion_x[0]\n",
      "            \n",
      "            self.velocidad_y[i+1] = self.velocidad_y[0] + (i+1)*(dt/self.N) * self.aceleracion_y\n",
      "            self.posicion_y[i+1] = self.velocidad_y[0] * (i+1)*(dt/self.N) + (0.5) * self.aceleracion_y * ((i+1)*dt/self.N)**2 + self.posicion_y[0]\n",
      "\n",
      "    \n",
      "    def dibujar(self):\n",
      "        plt.figure(figsize = (10,8), dpi = 80)\n",
      "        \n",
      "        scatter_x = []\n",
      "        scatter_y = []\n",
      "        for i in range(0, len(self.posicion_x), 100):\n",
      "            scatter_x.append(self.posicion_x[i])\n",
      "            scatter_y.append(self.posicion_y[i])\n",
      "        \n",
      "        scatter_x.append(self.posicion_x[len(self.posicion_x)-1])\n",
      "        scatter_y.append(self.posicion_y[len(self.posicion_y)-1])\n",
      "        \n",
      "        plt.plot(self.posicion_x, self.posicion_y , label=\"Movimiento\", color=\"blue\", linewidth = 1)\n",
      "        plt.scatter(scatter_x, scatter_y, 30,  label = \"Movimiento puntual\", color = 'r')\n",
      "        plt.ylabel(\"Posicion Y (m)\")\n",
      "        plt.xlabel(\"Posicion X (m)\")\n",
      "        plt.legend(loc = 'upper left')\n",
      "        #plt.annotate(u\"$t=0$\", xy = (scatter_x[0], scatter_y[0]), xycoords='data', textcoords='offset points', fontsize=20)\n",
      "    \n",
      "        \n",
      "        \n",
      "    def dibujar_pos_tiempo(self, tiempo):\n",
      "        plt.figure(figsize = (10,8), dpi = 80)\n",
      "\n",
      "        plt.plot(tiempo, self.posicion_x , label=u\"Posici\u00f3n vs tiempo\", color=\"red\")\n",
      "        plt.xlabel(\"Tiempo (s)\")\n",
      "        plt.ylabel(\"Posicion X (m)\")\n",
      "        plt.legend(loc = 'upper left')\n",
      "        \n",
      "    def distancia(self, otra_particula):\n",
      "        posicion_0_particula_1 = self.posicion[0, :]\n",
      "        posicion_0_particula_2 = otra_particula.posicion[0, :]\n",
      "        self.norma = np.linalg.norm(posicion_0_particula_1 - posicion_0_particula_2) # Interesa s\u00f3lo la posici\u00f3n inicial\n",
      "        self.vector_unitario = (posicion_0_particula_1 - posicion_0_particula_2)/self.norma\n",
      "        \n",
      "        return (self.norma, self.vector_unitario) # La distancia regresa la norma entre las dos posiciones y su vector unitario\n",
      "    \n",
      "    def fuerzaAplicada(self, otra_particula):\n",
      "        d, vector_u = self.distancia(otra_particula)\n",
      "        fuerza_gravitacional = (1/d) * vector_u * self.G * self.masa * otra_particula.masa\n",
      "        return fuerza_gravitacional"
     ],
     "language": "python",
     "metadata": {},
     "outputs": [],
     "prompt_number": 91
    },
    {
     "cell_type": "code",
     "collapsed": false,
     "input": [
      "# Probando s\u00f3lo dibujar"
     ],
     "language": "python",
     "metadata": {},
     "outputs": [],
     "prompt_number": 92
    },
    {
     "cell_type": "code",
     "collapsed": false,
     "input": [
      "dt = 83\n",
      "steps = 1000\n",
      "tiempo = np.zeros([steps,2])\n",
      "tiempo[:, 0] = linspace(0, dt, steps)\n",
      "tiempo[:, 1] = linspace(0, dt, steps)\n",
      "velocidad_1 = np.zeros([steps, 2])\n",
      "velocidad_1[0, 0] = 10 # Velocidad_inicial_x\n",
      "velocidad_1[0, 1] = 30 # Velocidad_inicial_y\n",
      "posicion_1 = velocidad_1*tiempo\n",
      "posicion_1[0, 0] = 1 # Posicion_inicial_x:y\n",
      "posicion_2[0, 1] = -3.4"
     ],
     "language": "python",
     "metadata": {},
     "outputs": [],
     "prompt_number": 93
    },
    {
     "cell_type": "code",
     "collapsed": false,
     "input": [
      "particula_1 = Particula(posicion = posicion_1, velocidad = velocidad_1, masa = 10)\n",
      "particula_2 = Particula(posicion = posicion_2, velocidad = velocidad_2, masa = 100)\n"
     ],
     "language": "python",
     "metadata": {},
     "outputs": [],
     "prompt_number": 94
    },
    {
     "cell_type": "code",
     "collapsed": false,
     "input": [
      "particula_1.mover(np.array([10, 0]), dt)"
     ],
     "language": "python",
     "metadata": {},
     "outputs": [],
     "prompt_number": 96
    },
    {
     "cell_type": "code",
     "collapsed": false,
     "input": [
      "particula_1.dibujar()"
     ],
     "language": "python",
     "metadata": {},
     "outputs": [
      {
       "metadata": {},
       "output_type": "display_data",
       "png": "[encoded data removed]",
       "text": [
        "<matplotlib.figure.Figure at 0x7f29537bb110>"
       ]
      }
     ],
     "prompt_number": 97
    },
    {
     "cell_type": "code",
     "collapsed": false,
     "input": [
      "particula_1.dibujar_pos_tiempo(tiempo[:,0])"
     ],
     "language": "python",
     "metadata": {},
     "outputs": [
      {
       "metadata": {},
       "output_type": "display_data",
       "png": "[encoded data removed]",
       "text": [
        "<matplotlib.figure.Figure at 0x7f29538efcd0>"
       ]
      }
     ],
     "prompt_number": 14
    },
    {
     "cell_type": "code",
     "collapsed": false,
     "input": [],
     "language": "python",
     "metadata": {},
     "outputs": [],
     "prompt_number": 14
    },
    {
     "cell_type": "code",
     "collapsed": false,
     "input": [
      "#Usando otra part\u00edcula"
     ],
     "language": "python",
     "metadata": {},
     "outputs": [],
     "prompt_number": 15
    },
    {
     "cell_type": "code",
     "collapsed": false,
     "input": [
      "velocidad_2 = np.zeros((1000, 2))\n",
      "velocidad_2[0, 0] = 10\n",
      "velocidad_2[0, 1] = 20\n",
      "posicion_2 = velocidad_2*tiempo"
     ],
     "language": "python",
     "metadata": {},
     "outputs": [],
     "prompt_number": 16
    },
    {
     "cell_type": "code",
     "collapsed": false,
     "input": [
      "particula_2 = Particula(posicion = posicion_2, velocidad = velocidad_2, masa = 100)"
     ],
     "language": "python",
     "metadata": {},
     "outputs": [],
     "prompt_number": 17
    },
    {
     "cell_type": "code",
     "collapsed": false,
     "input": [
      "f = particula_1.fuerzaAplicada(particula_2)"
     ],
     "language": "python",
     "metadata": {},
     "outputs": [],
     "prompt_number": 18
    },
    {
     "cell_type": "code",
     "collapsed": false,
     "input": [
      "particula_2.mover(np.array([-30,0]), 10)"
     ],
     "language": "python",
     "metadata": {},
     "outputs": [],
     "prompt_number": 35
    },
    {
     "cell_type": "code",
     "collapsed": false,
     "input": [
      "particula_2.dibujar()"
     ],
     "language": "python",
     "metadata": {},
     "outputs": [
      {
       "metadata": {},
       "output_type": "display_data",
       "png": "[encoded data removed]",
       "text": [
        "<matplotlib.figure.Figure at 0x7f7059f30450>"
       ]
      }
     ],
     "prompt_number": 39
    },
    {
     "cell_type": "code",
     "collapsed": false,
     "input": [
      "i = [1, 2, 3]\n",
      "h = np.array(i)\n",
      "h"
     ],
     "language": "python",
     "metadata": {},
     "outputs": [
      {
       "metadata": {},
       "output_type": "pyout",
       "prompt_number": 42,
       "text": [
        "array([1, 2, 3])"
       ]
      }
     ],
     "prompt_number": 42
    },
    {
     "cell_type": "code",
     "collapsed": false,
     "input": [
      "particula_2"
     ],
     "language": "python",
     "metadata": {},
     "outputs": [
      {
       "metadata": {},
       "output_type": "pyout",
       "prompt_number": 43,
       "text": [
        "<__main__.Particula instance at 0x7f705a00cc68>"
       ]
      }
     ],
     "prompt_number": 43
    },
    {
     "cell_type": "code",
     "collapsed": false,
     "input": [
      "distancia(particula_1, particula_2)"
     ],
     "language": "python",
     "metadata": {},
     "outputs": [
      {
       "ename": "NameError",
       "evalue": "name 'distancia' is not defined",
       "output_type": "pyerr",
       "traceback": [
        "\u001b[1;31m---------------------------------------------------------------------------\u001b[0m\n\u001b[1;31mNameError\u001b[0m                                 Traceback (most recent call last)",
        "\u001b[1;32m<ipython-input-62-325d32055741>\u001b[0m in \u001b[0;36m<module>\u001b[1;34m()\u001b[0m\n\u001b[1;32m----> 1\u001b[1;33m \u001b[0mdistancia\u001b[0m\u001b[1;33m(\u001b[0m\u001b[0mparticula_1\u001b[0m\u001b[1;33m,\u001b[0m \u001b[0mparticula_2\u001b[0m\u001b[1;33m)\u001b[0m\u001b[1;33m\u001b[0m\u001b[0m\n\u001b[0m",
        "\u001b[1;31mNameError\u001b[0m: name 'distancia' is not defined"
       ]
      }
     ],
     "prompt_number": 62
    },
    {
     "cell_type": "code",
     "collapsed": false,
     "input": [
      "class Universo:\n",
      "    \n",
      "    def __init__(self, radio, N, particulas):\n",
      "        self.radio = radio\n",
      "        self.N = N\n",
      "        self.particulas = particulas\n",
      "    \n",
      "    def step(self, dt):\n",
      "        pass\n",
      "    \n",
      "    def dibujar(self):\n",
      "        plt.figure(figsize = (10, 10), dpi = 80)\n",
      "        X = np.linspace(-self.radio, self.radio, 1000)\n",
      "        Y = np.sqrt((self.radio)**2 - X**2)\n",
      "        plt.scatter(0,0, color = \"b\")\n",
      "        plt.plot(X, Y, label = u\"L\u00edmites del universo\", color = 'r',  linewidth = 2.5, linestyle = \"--\")\n",
      "        plt.plot(X, -Y, color = 'r',  linewidth = 2.5, linestyle = \"--\")\n",
      "        plt.legend(loc = \"upper right\")\n",
      "                   \n",
      "    def simular(self):\n",
      "        pass"
     ],
     "language": "python",
     "metadata": {},
     "outputs": []
    },
    {
     "cell_type": "code",
     "collapsed": false,
     "input": [
      "U = Universo(15, 10, 10)"
     ],
     "language": "python",
     "metadata": {},
     "outputs": []
    },
    {
     "cell_type": "code",
     "collapsed": false,
     "input": [
      "U.dibujar()"
     ],
     "language": "python",
     "metadata": {},
     "outputs": []
    },
    {
     "cell_type": "code",
     "collapsed": false,
     "input": [],
     "language": "python",
     "metadata": {},
     "outputs": []
    },
    {
     "cell_type": "code",
     "collapsed": false,
     "input": [
      "# C\u00f3mo aplicar varias fuerzas en un dt = 83 segundos, cambiando la fuerza en t = 83/ 1000 \n",
      "# Calculamos todo para "
     ],
     "language": "python",
     "metadata": {},
     "outputs": [],
     "prompt_number": 100
    },
    {
     "cell_type": "code",
     "collapsed": false,
     "input": [
      "# para t= 0, 83/1000"
     ],
     "language": "python",
     "metadata": {},
     "outputs": []
    },
    {
     "cell_type": "code",
     "collapsed": false,
     "input": [
      "dt = 83/1000\n",
      "steps = 1000\n",
      "tiempo = np.zeros([steps,2])\n",
      "tiempo[:, 0] = linspace(0, dt, steps)\n",
      "tiempo[:, 1] = linspace(0, dt, steps)\n",
      "velocidad_1 = np.zeros([steps, 2])\n",
      "velocidad_1[0, 0] = 10 # Velocidad_inicial_x\n",
      "velocidad_1[0, 1] = 30 # Velocidad_inicial_y\n",
      "posicion_1 = velocidad_1*tiempo\n",
      "posicion_1[0, 0] = 1 # Posicion_inicial_x:y\n",
      "posicion_2[0, 1] = -3.4\n",
      "particula_1 = Particula(posicion = posicion_1, velocidad = velocidad_1, masa = 10)\n",
      "particula_1.mover([10, 0], dt)\n",
      "particula_1.dibujar()"
     ],
     "language": "python",
     "metadata": {},
     "outputs": [
      {
       "metadata": {},
       "output_type": "display_data",
       "png": "[encoded data removed]",
       "text": [
        "<matplotlib.figure.Figure at 0x7f29537ef8d0>"
       ]
      }
     ],
     "prompt_number": 101
    },
    {
     "cell_type": "code",
     "collapsed": false,
     "input": [
      "# para t = 83/1000, 2*83/1000"
     ],
     "language": "python",
     "metadata": {},
     "outputs": [],
     "prompt_number": 102
    },
    {
     "cell_type": "code",
     "collapsed": false,
     "input": [
      "dt_2 = 2*83/1000\n",
      "steps = 1000\n",
      "tiempo = np.zeros([steps,2])\n",
      "tiempo[:, 0] = linspace(dt, dt, steps)\n",
      "tiempo[:, 1] = linspace(dt_2, dt, steps)\n",
      "velocidad_1 = np.zeros([steps, 2])\n",
      "velocidad_1[0, 0] = 10 # Velocidad_inicial_x\n",
      "velocidad_1[0, 1] = 30 # Velocidad_inicial_y\n",
      "posicion_1 = velocidad_1*tiempo\n",
      "posicion_1[0, 0] = 1 # Posicion_inicial_x:y\n",
      "posicion_1[0, 1] = -3.4\n",
      "particula_1 = Particula(posicion = posicion_1, velocidad = velocidad_1, masa = 10)\n",
      "particula_1.mover([10, 0], dt)\n",
      "particula_1.dibujar()"
     ],
     "language": "python",
     "metadata": {},
     "outputs": []
    },
    {
     "cell_type": "code",
     "collapsed": false,
     "input": [
      "# en general"
     ],
     "language": "python",
     "metadata": {},
     "outputs": [],
     "prompt_number": 103
    },
    {
     "cell_type": "code",
     "collapsed": false,
     "input": [
      "def muchas_fuerzas(time, steps, sub_steps, speed_0, position_0, force_0):\n",
      "    for i in range(steps):\n",
      "        dt_0 = i * time / steps \n",
      "        dt_1 = (i+1) * time / steps\n",
      "        velocidad_1 = np.zeros([sub_steps, 2])\n",
      "        velocidad_1[0, 0] = speed_0[0]# Velocidad_inicial_x\n",
      "        velocidad_1[0, 1] = speed_0[1] # Velocidad_inicial_y\n",
      "        posicion_1 = np.zeros([sub_steps,2])\n",
      "        posicion_1[0, 0] = position_0[0] # Posicion_inicial_x\n",
      "        posicion_1[0, 1] = position_0[1] # Posicion_inicial_y\n",
      "        particula_1 = Particula(posicion = posicion_1, velocidad = velocidad_1, masa = 10)\n",
      "        particula_1.mover(force_0, dt_1 - dt_0)\n",
      "        particula_1.dibujar()\n",
      "        speed_0[0] = velocidad_1[sub_steps-1, 0]\n",
      "        speed_0[1] = velocidad_1[sub_steps-1, 1]\n",
      "        position_0[0] = posicion_1[sub_steps-1, 0]\n",
      "        position_0[1] = posicion_1[sub_steps-1, 1]\n",
      "        force_0 = [force_0[0] + 10 + i, force_0[1] + -10 + i]\n",
      "        "
     ],
     "language": "python",
     "metadata": {},
     "outputs": [],
     "prompt_number": 127
    },
    {
     "cell_type": "code",
     "collapsed": false,
     "input": [
      "# Intento con recusi\u00f3n"
     ],
     "language": "python",
     "metadata": {},
     "outputs": [],
     "prompt_number": 105
    },
    {
     "cell_type": "code",
     "collapsed": false,
     "input": [
      "def aplica_fuerzas(time, steps, sub_steps):\n",
      "    "
     ],
     "language": "python",
     "metadata": {},
     "outputs": []
    },
    {
     "cell_type": "code",
     "collapsed": false,
     "input": [
      "h = 5"
     ],
     "language": "python",
     "metadata": {},
     "outputs": [],
     "prompt_number": 106
    },
    {
     "cell_type": "code",
     "collapsed": false,
     "input": [
      "np.zeros([h])[h-1]"
     ],
     "language": "python",
     "metadata": {},
     "outputs": [
      {
       "metadata": {},
       "output_type": "pyout",
       "prompt_number": 108,
       "text": [
        "0.0"
       ]
      }
     ],
     "prompt_number": 108
    },
    {
     "cell_type": "code",
     "collapsed": false,
     "input": [],
     "language": "python",
     "metadata": {},
     "outputs": []
    },
    {
     "cell_type": "code",
     "collapsed": false,
     "input": [],
     "language": "python",
     "metadata": {},
     "outputs": []
    }
   ],
   "metadata": {}
  }
 ]
}