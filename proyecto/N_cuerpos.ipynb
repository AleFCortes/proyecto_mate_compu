{
 "metadata": {
  "name": "",
  "signature": "sha256:902c953dbe5eab87db27e75ece8e72c089c861b10fe4ff59f30141bfd9d1738a"
 },
 "nbformat": 3,
 "nbformat_minor": 0,
 "worksheets": [
  {
   "cells": [
    {
     "cell_type": "code",
     "collapsed": false,
     "input": [
      "%pylab inline\n",
      "import numpy as np\n",
      "import matplotlib.pyplot as plt\n",
      "from __future__ import division"
     ],
     "language": "python",
     "metadata": {},
     "outputs": [
      {
       "output_type": "stream",
       "stream": "stdout",
       "text": [
        "Populating the interactive namespace from numpy and matplotlib\n"
       ]
      }
     ],
     "prompt_number": 2
    },
    {
     "cell_type": "code",
     "collapsed": false,
     "input": [
      "class Particula:\n",
      "    \n",
      "    def __init__(self, posicion, velocidad, masa):\n",
      "        self.masa = masa\n",
      "        \n",
      "        self.posicion_0 = posicion\n",
      "        self.posicion_x_0 = self.posicion_0[0]\n",
      "        self.posicion_y_0 = self.posicion_0[1]\n",
      "        \n",
      "        self.velocidad_0 = velocidad\n",
      "        self.velocidad_x_0 = self.velocidad_0[0]\n",
      "        self.velocidad_y_0 = self.velocidad_0[1]\n",
      "        \n",
      "        self.G = 6.67384e-11\n",
      " \n",
      "    def mover(self, fuerza, tiempo, pasos):\n",
      "        self.pasos = pasos\n",
      "        self.tiempo = np.array([(i+1)*(tiempo/self.pasos) for i in range(self.pasos)])\n",
      "        \n",
      "        self.aceleracion_x = fuerza[0] / self.masa\n",
      "        self.aceleracion_y = fuerza[1] / self.masa\n",
      "        \n",
      "        self.velocidades = np.zeros([pasos,2])\n",
      "        self.velocidad_x = self.velocidades[:,0]\n",
      "        self.velocidad_y = self.velocidades[:,1]\n",
      "        \n",
      "        self.velocidad_x[0] = self.velocidad_x_0\n",
      "        self.velocidad_y[0] = self.velocidad_y_0\n",
      "        \n",
      "        self.posiciones = np.zeros([pasos,2])\n",
      "        self.posicion_x = self.posiciones[:,0]\n",
      "        self.posicion_y = self.posiciones[:,1]\n",
      "        \n",
      "        self.posicion_x[0] = self.posicion_x_0\n",
      "        self.posicion_y[0] = self.posicion_y_0\n",
      "        \n",
      "        \n",
      "        for i in range(self.pasos - 1):\n",
      "            self.velocidad_x[i+1] = self.velocidad_x[0] + self.tiempo[i] * self.aceleracion_x\n",
      "            self.posicion_x[i+1] = self.velocidad_x[0] * self.tiempo[i] + (0.5) * self.aceleracion_x * (self.tiempo[i])**2 + self.posicion_x[0]\n",
      "            \n",
      "            self.velocidad_y[i+1] = self.velocidad_y[0] + self.tiempo[i] * self.aceleracion_y\n",
      "            self.posicion_y[i+1] = self.velocidad_y[0] * self.tiempo[i] + (0.5) * self.aceleracion_y * (self.tiempo[i])**2 + self.posicion_y[0]\n",
      "    \n",
      "    \n",
      "    def muchas_fuerzas(self, tiempo, paso, subpasos, fuerzas):\n",
      "        \n",
      "        \"\"\"\n",
      "        Simula que en lapso t = tiempo se aplica un numero p = pasos de fuerzas en cada lapso p.\n",
      "        Para esto se ocupa la funci\u00f3n mover: se aplica una fuerza f durante un tiempo t-p.\n",
      "        Notar fuerzas es una lista (o arreglo) con dimension pasos.\n",
      "        \"\"\"\n",
      "        \n",
      "        self.pos_x = []\n",
      "        self.pos_y = []\n",
      "        self.t = tiempo\n",
      "        self.p = paso\n",
      "        self.s = subpasos\n",
      "        \n",
      "        dt = tiempo/paso\n",
      "        \n",
      "        for i in range(self.p):\n",
      "            self.__init__(self.posicion_0, self.velocidad_0, self.masa)\n",
      "            self.mover(fuerzas[i], dt, subpasos)\n",
      "            self.pos_x.append(self.posicion_x)\n",
      "            self.pos_y.append(self.posicion_y)\n",
      "            self.posicion_0[0] = self.posicion_x[subpasos-1]\n",
      "            self.posicion_0[1] = self.posicion_y[subpasos-1]\n",
      "            \n",
      "    \n",
      "    def muchas_fuerzas_otra_particula(self, tiempo, paso, subpasos, otra_particula):\n",
      "            self.pos_x = []\n",
      "            self.pos_y = []\n",
      "            self.t = tiempo\n",
      "            self.p = paso\n",
      "            self.s = subpasos\n",
      "            \n",
      "            otra_fuerza = self.fuerzaAplicada(otra_particula)\n",
      "            \n",
      "\n",
      "            dt = tiempo/paso\n",
      "\n",
      "            for i in range(self.p):\n",
      "                self.__init__(self.posicion_0, self.velocidad_0, self.masa)\n",
      "                self.mover(otra_fuerza, dt, subpasos)\n",
      "                self.pos_x.append(self.posicion_x)\n",
      "                self.pos_y.append(self.posicion_y)\n",
      "                self.posicion_0[0] = self.posicion_x[subpasos-1]\n",
      "                self.posicion_0[1] = self.posicion_y[subpasos-1]\n",
      "                otra_fuerza = self.fuerzaAplicada(otra_particula)\n",
      "\n",
      "    \n",
      "    def dibujar_muchas_fuerzas(self):\n",
      "        plt.figure(figsize = (10,8), dpi = 80)\n",
      "        \n",
      "        for i in range(self.p):\n",
      "            plt.plot(self.pos_x[i], self.pos_y[i], color = \"green\", linewidth = 1.2)\n",
      "        \n",
      "        #for i in range(self.p):\n",
      "            #plt.scatter(self.pos_x[i][0], self.pos_y[i][0], label = \"Inicio fuerza\")\n",
      "        \n",
      "        plt.legend(loc=\"best\")\n",
      "        \n",
      "\n",
      "    \n",
      "    def dibujar(self):\n",
      "        plt.figure(figsize = (10,8), dpi = 80)\n",
      "        \n",
      "        scatter_x = []\n",
      "        scatter_y = []\n",
      "        for i in range(0, len(self.posicion_x), 100):\n",
      "            scatter_x.append(self.posicion_x[i])\n",
      "            scatter_y.append(self.posicion_y[i])\n",
      "        \n",
      "        scatter_x.append(self.posicion_x[len(self.posicion_x)-1])\n",
      "        scatter_y.append(self.posicion_y[len(self.posicion_y)-1])\n",
      "        \n",
      "        plt.plot(self.posicion_x, self.posicion_y , label=\"Movimiento\", color=\"blue\", linewidth = 1)\n",
      "        plt.scatter(scatter_x, scatter_y, 30,  label = \"Movimiento puntual\", color = 'r')\n",
      "        plt.ylabel(\"Posicion Y (m)\")\n",
      "        plt.xlabel(\"Posicion X (m)\")\n",
      "        plt.legend(loc = 'best')\n",
      "        \n",
      "        \n",
      "    def dibujar_x_tiempo(self): \n",
      "        \n",
      "        \"\"\"\n",
      "        Dibuja la posici\u00f3n X contra el tiempo t\n",
      "        \"\"\"\n",
      "        \n",
      "        plt.figure(figsize = (10,8), dpi = 80)\n",
      "        plt.plot(self.tiempo, self.posicion_x , label=u\"Posici\u00f3n X vs Tiempo\", color=\"red\")\n",
      "        plt.xlabel(\"Tiempo (s)\")\n",
      "        plt.ylabel(\"Posicion X (m)\")\n",
      "        plt.legend(loc = 'best')\n",
      "    \n",
      "    def dibujar_y_tiempo(self):\n",
      "        \n",
      "        \"\"\"\n",
      "        Dibuja la posici\u00f3n Y contra el tiempo t\n",
      "        \"\"\"\n",
      "        \n",
      "        plt.figure(figsize = (10,8), dpi = 80)\n",
      "        plt.plot(self.tiempo, self.posicion_y , label=u\"Posici\u00f3n Y vs Tiempo\", color=\"red\")\n",
      "        plt.xlabel(\"Tiempo (s)\")\n",
      "        plt.ylabel(\"Posicion Y (m)\")\n",
      "        plt.legend(loc = 'best')\n",
      "        \n",
      "        \n",
      "    def distancia(self, otra_particula):\n",
      "        self.norma = np.linalg.norm(self.posicion_0 - otra_particula.posicion_0) # Interesa s\u00f3lo la posici\u00f3n inicial\n",
      "        self.vector_unitario = (self.posicion_0 - otra_particula.posicion_0)/self.norma\n",
      "        \n",
      "        return (self.norma, self.vector_unitario) # La distancia regresa la norma entre las dos posiciones y su vector unitario\n",
      "    \n",
      "\n",
      "    def fuerzaAplicada(self, otra_particula):\n",
      "        d, vector_u = self.distancia(otra_particula)\n",
      "        fuerza_gravitacional = (1/d) * vector_u * self.G * self.masa * otra_particula.masa\n",
      "        return fuerza_gravitacional"
     ],
     "language": "python",
     "metadata": {},
     "outputs": [],
     "prompt_number": 40
    },
    {
     "cell_type": "code",
     "collapsed": false,
     "input": [],
     "language": "python",
     "metadata": {},
     "outputs": [],
     "prompt_number": 32
    },
    {
     "cell_type": "code",
     "collapsed": false,
     "input": [
      "# Probando s\u00f3lo dibujar"
     ],
     "language": "python",
     "metadata": {},
     "outputs": [],
     "prompt_number": 33
    },
    {
     "cell_type": "code",
     "collapsed": false,
     "input": [
      "time = 83\n",
      "steps = 1000"
     ],
     "language": "python",
     "metadata": {},
     "outputs": [],
     "prompt_number": 34
    },
    {
     "cell_type": "code",
     "collapsed": false,
     "input": [
      "particula_1 = Particula(posicion = np.array([0.1, -0.1]), velocidad = np.array([-200.0,5000.0]), masa = 10)\n",
      "particula_2 = Particula(posicion = np.array([0.0, 0.0]), velocidad = np.array([-13.7, 56.7]), masa = 1000000)"
     ],
     "language": "python",
     "metadata": {},
     "outputs": [],
     "prompt_number": 35
    },
    {
     "cell_type": "code",
     "collapsed": false,
     "input": [
      "#particula_1.muchas_fuerzas_otra_particula(tiempo = 10, paso = 1000, subpasos = 100, otra_particula = particula_2)"
     ],
     "language": "python",
     "metadata": {},
     "outputs": [],
     "prompt_number": 36
    },
    {
     "cell_type": "code",
     "collapsed": false,
     "input": [
      "#particula_1.dibujar_muchas_fuerzas()"
     ],
     "language": "python",
     "metadata": {},
     "outputs": [],
     "prompt_number": 37
    },
    {
     "cell_type": "code",
     "collapsed": false,
     "input": [
      "particula_1.mover(np.array([10, -2000]), time, steps)"
     ],
     "language": "python",
     "metadata": {},
     "outputs": [],
     "prompt_number": 38
    },
    {
     "cell_type": "code",
     "collapsed": false,
     "input": [
      "particula_1.dibujar()"
     ],
     "language": "python",
     "metadata": {},
     "outputs": [
      {
       "metadata": {},
       "output_type": "display_data",
       "png": "[encoded data removed]",
       "text": [
        "<matplotlib.figure.Figure at 0x7f311e9e9210>"
       ]
      }
     ],
     "prompt_number": 39
    },
    {
     "cell_type": "code",
     "collapsed": false,
     "input": [
      "particula_1.dibujar_x_tiempo()"
     ],
     "language": "python",
     "metadata": {},
     "outputs": [
      {
       "metadata": {},
       "output_type": "display_data",
       "png": "[encoded data removed]",
       "text": [
        "<matplotlib.figure.Figure at 0x7f311ef6cfd0>"
       ]
      }
     ],
     "prompt_number": 29
    },
    {
     "cell_type": "code",
     "collapsed": false,
     "input": [
      "particula_1 = Particula(posicion = np.array([0.0,0.0]), velocidad = np.array([4.0,3.0]), masa = 100.0)"
     ],
     "language": "python",
     "metadata": {},
     "outputs": [],
     "prompt_number": 33
    },
    {
     "cell_type": "code",
     "collapsed": false,
     "input": [
      "forces = [[-34.4,10.0], [23.65,-3.4], [0.0,-10.0], [-30.0,80.0], [-2.90, 17.0], [200.0, -200.0]]"
     ],
     "language": "python",
     "metadata": {},
     "outputs": [],
     "prompt_number": 28
    },
    {
     "cell_type": "code",
     "collapsed": false,
     "input": [
      "forces3 = [[200, -400], [-1000, 234], [-765, -953], [-200, 400], [1000, -234], [765, 953]] "
     ],
     "language": "python",
     "metadata": {},
     "outputs": [],
     "prompt_number": 29
    },
    {
     "cell_type": "code",
     "collapsed": false,
     "input": [
      "force2=[[i,-i] for i in range(100)]"
     ],
     "language": "python",
     "metadata": {},
     "outputs": [],
     "prompt_number": 30
    },
    {
     "cell_type": "code",
     "collapsed": false,
     "input": [
      "particula_1.muchas_fuerzas(10, 1, 100, [[2.0,-3.0]])"
     ],
     "language": "python",
     "metadata": {},
     "outputs": [],
     "prompt_number": 34
    },
    {
     "cell_type": "code",
     "collapsed": false,
     "input": [
      "particula_1.dibujar_muchas_fuerzas()"
     ],
     "language": "python",
     "metadata": {},
     "outputs": [
      {
       "metadata": {},
       "output_type": "display_data",
       "png": "[encoded data removed]",
       "text": [
        "<matplotlib.figure.Figure at 0x7fe989db4f90>"
       ]
      }
     ],
     "prompt_number": 35
    },
    {
     "cell_type": "code",
     "collapsed": false,
     "input": [
      "#Usando otra part\u00edcula"
     ],
     "language": "python",
     "metadata": {},
     "outputs": [],
     "prompt_number": 24
    },
    {
     "cell_type": "code",
     "collapsed": false,
     "input": [
      "velocidad_2 = np.zeros((1000, 2))\n",
      "velocidad_2[0, 0] = 10\n",
      "velocidad_2[0, 1] = 20\n",
      "posicion_2 = velocidad_2*tiempo"
     ],
     "language": "python",
     "metadata": {},
     "outputs": []
    },
    {
     "cell_type": "code",
     "collapsed": false,
     "input": [
      "particula_2 = Particula(posicion = posicion_2, velocidad = velocidad_2, masa = 100)"
     ],
     "language": "python",
     "metadata": {},
     "outputs": []
    },
    {
     "cell_type": "code",
     "collapsed": false,
     "input": [
      "f = particula_1.fuerzaAplicada(particula_2)"
     ],
     "language": "python",
     "metadata": {},
     "outputs": []
    },
    {
     "cell_type": "code",
     "collapsed": false,
     "input": [
      "particula_2.mover(np.array([-30,0]), 10)"
     ],
     "language": "python",
     "metadata": {},
     "outputs": []
    },
    {
     "cell_type": "code",
     "collapsed": false,
     "input": [
      "particula_2.dibujar()"
     ],
     "language": "python",
     "metadata": {},
     "outputs": [
      {
       "ename": "NameError",
       "evalue": "name 'particula_2' is not defined",
       "output_type": "pyerr",
       "traceback": [
        "\u001b[1;31m---------------------------------------------------------------------------\u001b[0m\n\u001b[1;31mNameError\u001b[0m                                 Traceback (most recent call last)",
        "\u001b[1;32m<ipython-input-238-a9732104a011>\u001b[0m in \u001b[0;36m<module>\u001b[1;34m()\u001b[0m\n\u001b[1;32m----> 1\u001b[1;33m \u001b[0mparticula_2\u001b[0m\u001b[1;33m.\u001b[0m\u001b[0mdibujar\u001b[0m\u001b[1;33m(\u001b[0m\u001b[1;33m)\u001b[0m\u001b[1;33m\u001b[0m\u001b[0m\n\u001b[0m",
        "\u001b[1;31mNameError\u001b[0m: name 'particula_2' is not defined"
       ]
      }
     ],
     "prompt_number": 238
    },
    {
     "cell_type": "code",
     "collapsed": false,
     "input": [
      "i = [1, 2, 3]\n",
      "h = np.array(i)\n",
      "h"
     ],
     "language": "python",
     "metadata": {},
     "outputs": [
      {
       "metadata": {},
       "output_type": "pyout",
       "prompt_number": 42,
       "text": [
        "array([1, 2, 3])"
       ]
      }
     ],
     "prompt_number": 42
    },
    {
     "cell_type": "code",
     "collapsed": false,
     "input": [
      "particula_2"
     ],
     "language": "python",
     "metadata": {},
     "outputs": [
      {
       "metadata": {},
       "output_type": "pyout",
       "prompt_number": 43,
       "text": [
        "<__main__.Particula instance at 0x7f705a00cc68>"
       ]
      }
     ],
     "prompt_number": 43
    },
    {
     "cell_type": "code",
     "collapsed": false,
     "input": [
      "distancia(particula_1, particula_2)"
     ],
     "language": "python",
     "metadata": {},
     "outputs": [
      {
       "ename": "NameError",
       "evalue": "name 'distancia' is not defined",
       "output_type": "pyerr",
       "traceback": [
        "\u001b[1;31m---------------------------------------------------------------------------\u001b[0m\n\u001b[1;31mNameError\u001b[0m                                 Traceback (most recent call last)",
        "\u001b[1;32m<ipython-input-62-325d32055741>\u001b[0m in \u001b[0;36m<module>\u001b[1;34m()\u001b[0m\n\u001b[1;32m----> 1\u001b[1;33m \u001b[0mdistancia\u001b[0m\u001b[1;33m(\u001b[0m\u001b[0mparticula_1\u001b[0m\u001b[1;33m,\u001b[0m \u001b[0mparticula_2\u001b[0m\u001b[1;33m)\u001b[0m\u001b[1;33m\u001b[0m\u001b[0m\n\u001b[0m",
        "\u001b[1;31mNameError\u001b[0m: name 'distancia' is not defined"
       ]
      }
     ],
     "prompt_number": 62
    },
    {
     "cell_type": "code",
     "collapsed": false,
     "input": [
      "class Universo:\n",
      "    \n",
      "    def __init__(self, radio, N, particulas):\n",
      "        self.radio = radio\n",
      "        self.N = N\n",
      "        self.particulas = particulas\n",
      "    \n",
      "    def step(self, dt):\n",
      "        pass\n",
      "    \n",
      "    def dibujar(self):\n",
      "        plt.figure(figsize = (10, 10), dpi = 80)\n",
      "        X = np.linspace(-self.radio, self.radio, 1000)\n",
      "        Y = np.sqrt((self.radio)**2 - X**2)\n",
      "        plt.scatter(0,0, color = \"b\")\n",
      "        plt.plot(X, Y, label = u\"L\u00edmites del universo\", color = 'r',  linewidth = 2.5, linestyle = \"--\")\n",
      "        plt.plot(X, -Y, color = 'r',  linewidth = 2.5, linestyle = \"--\")\n",
      "        plt.legend(loc = \"upper right\")\n",
      "                   \n",
      "    def simular(self):\n",
      "        pass"
     ],
     "language": "python",
     "metadata": {},
     "outputs": []
    },
    {
     "cell_type": "code",
     "collapsed": false,
     "input": [
      "U = Universo(15, 10, 10)"
     ],
     "language": "python",
     "metadata": {},
     "outputs": []
    },
    {
     "cell_type": "code",
     "collapsed": false,
     "input": [
      "U.dibujar()"
     ],
     "language": "python",
     "metadata": {},
     "outputs": []
    },
    {
     "cell_type": "code",
     "collapsed": false,
     "input": [],
     "language": "python",
     "metadata": {},
     "outputs": []
    },
    {
     "cell_type": "code",
     "collapsed": false,
     "input": [
      "# C\u00f3mo aplicar varias fuerzas en un dt = 83 segundos, cambiando la fuerza en t = 83/ 1000 \n",
      "# Calculamos todo para "
     ],
     "language": "python",
     "metadata": {},
     "outputs": [],
     "prompt_number": 100
    },
    {
     "cell_type": "code",
     "collapsed": false,
     "input": [
      "# para t= 0, 83/1000"
     ],
     "language": "python",
     "metadata": {},
     "outputs": []
    },
    {
     "cell_type": "code",
     "collapsed": false,
     "input": [
      "dt = 83/1000\n",
      "steps = 1000\n",
      "tiempo = np.zeros([steps,2])\n",
      "tiempo[:, 0] = linspace(0, dt, steps)\n",
      "tiempo[:, 1] = linspace(0, dt, steps)\n",
      "velocidad_1 = np.zeros([steps, 2])\n",
      "velocidad_1[0, 0] = 10 # Velocidad_inicial_x\n",
      "velocidad_1[0, 1] = 30 # Velocidad_inicial_y\n",
      "posicion_1 = velocidad_1*tiempo\n",
      "posicion_1[0, 0] = 1 # Posicion_inicial_x:y\n",
      "posicion_2[0, 1] = -3.4\n",
      "particula_1 = Particula(posicion = posicion_1, velocidad = velocidad_1, masa = 10)\n",
      "particula_1.mover([10, 0], dt)\n",
      "particula_1.dibujar()"
     ],
     "language": "python",
     "metadata": {},
     "outputs": [
      {
       "metadata": {},
       "output_type": "display_data",
       "png": "[encoded data removed]",
       "text": [
        "<matplotlib.figure.Figure at 0x7f29537ef8d0>"
       ]
      }
     ],
     "prompt_number": 101
    },
    {
     "cell_type": "code",
     "collapsed": false,
     "input": [
      "# para t = 83/1000, 2*83/1000"
     ],
     "language": "python",
     "metadata": {},
     "outputs": [],
     "prompt_number": 102
    },
    {
     "cell_type": "code",
     "collapsed": false,
     "input": [
      "dt_2 = 2*83/1000\n",
      "steps = 1000\n",
      "tiempo = np.zeros([steps,2])\n",
      "tiempo[:, 0] = linspace(dt, dt, steps)\n",
      "tiempo[:, 1] = linspace(dt_2, dt, steps)\n",
      "velocidad_1 = np.zeros([steps, 2])\n",
      "velocidad_1[0, 0] = 10 # Velocidad_inicial_x\n",
      "velocidad_1[0, 1] = 30 # Velocidad_inicial_y\n",
      "posicion_1 = velocidad_1*tiempo\n",
      "posicion_1[0, 0] = 1 # Posicion_inicial_x:y\n",
      "posicion_1[0, 1] = -3.4\n",
      "particula_1 = Particula(posicion = posicion_1, velocidad = velocidad_1, masa = 10)\n",
      "particula_1.mover([10, 0], dt)\n",
      "particula_1.dibujar()"
     ],
     "language": "python",
     "metadata": {},
     "outputs": []
    },
    {
     "cell_type": "code",
     "collapsed": false,
     "input": [
      "# en general"
     ],
     "language": "python",
     "metadata": {},
     "outputs": [],
     "prompt_number": 103
    },
    {
     "cell_type": "code",
     "collapsed": false,
     "input": [
      "def muchas_fuerzas(time, steps, sub_steps, speed_0, position_0, force_0):\n",
      "    pos_x = []\n",
      "    pos_y = []\n",
      "    for i in range(steps):\n",
      "        dt_0 = i * time / steps \n",
      "        dt_1 = (i+1) * time / steps\n",
      "        velocidad_1 = np.zeros([sub_steps, 2])\n",
      "        velocidad_1[0, 0] = speed_0[0]# Velocidad_inicial_x\n",
      "        velocidad_1[0, 1] = speed_0[1] # Velocidad_inicial_y\n",
      "        posicion_1 = np.zeros([sub_steps,2])\n",
      "        posicion_1[0, 0] = position_0[0] # Posicion_inicial_x\n",
      "        posicion_1[0, 1] = position_0[1] # Posicion_inicial_y\n",
      "        particula_1 = Particula(posicion = posicion_1, velocidad = velocidad_1, masa = 10)\n",
      "        particula_1.mover(force_0[i], dt_1 - dt_0)\n",
      "        pos_x.append(particula_1.posicion_x)\n",
      "        pos_y.append(particula_1.posicion_y)\n",
      "        speed_0[0] = velocidad_1[sub_steps-1, 0]\n",
      "        speed_0[1] = velocidad_1[sub_steps-1, 1]\n",
      "        position_0[0] = posicion_1[sub_steps-1, 0]\n",
      "        position_0[1] = posicion_1[sub_steps-1, 1]\n",
      "    \n",
      "    return pos_x, pos_y\n",
      "        "
     ],
     "language": "python",
     "metadata": {},
     "outputs": [],
     "prompt_number": 153
    },
    {
     "cell_type": "code",
     "collapsed": false,
     "input": [
      "# Intento con recusi\u00f3n"
     ],
     "language": "python",
     "metadata": {},
     "outputs": [],
     "prompt_number": 154
    },
    {
     "cell_type": "code",
     "collapsed": false,
     "input": [
      "a, b = muchas_fuerzas(10, 10, 1000, [0,0], [0,0], forces)\n"
     ],
     "language": "python",
     "metadata": {},
     "outputs": [
      {
       "ename": "AttributeError",
       "evalue": "Particula instance has no attribute 'posicion_x'",
       "output_type": "pyerr",
       "traceback": [
        "\u001b[1;31m---------------------------------------------------------------------------\u001b[0m\n\u001b[1;31mAttributeError\u001b[0m                            Traceback (most recent call last)",
        "\u001b[1;32m<ipython-input-155-d765a540c78a>\u001b[0m in \u001b[0;36m<module>\u001b[1;34m()\u001b[0m\n\u001b[1;32m----> 1\u001b[1;33m \u001b[0ma\u001b[0m\u001b[1;33m,\u001b[0m \u001b[0mb\u001b[0m \u001b[1;33m=\u001b[0m \u001b[0mmuchas_fuerzas\u001b[0m\u001b[1;33m(\u001b[0m\u001b[1;36m10\u001b[0m\u001b[1;33m,\u001b[0m \u001b[1;36m10\u001b[0m\u001b[1;33m,\u001b[0m \u001b[1;36m1000\u001b[0m\u001b[1;33m,\u001b[0m \u001b[1;33m[\u001b[0m\u001b[1;36m0\u001b[0m\u001b[1;33m,\u001b[0m\u001b[1;36m0\u001b[0m\u001b[1;33m]\u001b[0m\u001b[1;33m,\u001b[0m \u001b[1;33m[\u001b[0m\u001b[1;36m0\u001b[0m\u001b[1;33m,\u001b[0m\u001b[1;36m0\u001b[0m\u001b[1;33m]\u001b[0m\u001b[1;33m,\u001b[0m \u001b[0mforces\u001b[0m\u001b[1;33m)\u001b[0m\u001b[1;33m\u001b[0m\u001b[0m\n\u001b[0m",
        "\u001b[1;32m<ipython-input-153-b97a98f4cb65>\u001b[0m in \u001b[0;36mmuchas_fuerzas\u001b[1;34m(time, steps, sub_steps, speed_0, position_0, force_0)\u001b[0m\n\u001b[0;32m     12\u001b[0m         \u001b[0mposicion_1\u001b[0m\u001b[1;33m[\u001b[0m\u001b[1;36m0\u001b[0m\u001b[1;33m,\u001b[0m \u001b[1;36m1\u001b[0m\u001b[1;33m]\u001b[0m \u001b[1;33m=\u001b[0m \u001b[0mposition_0\u001b[0m\u001b[1;33m[\u001b[0m\u001b[1;36m1\u001b[0m\u001b[1;33m]\u001b[0m \u001b[1;31m# Posicion_inicial_y\u001b[0m\u001b[1;33m\u001b[0m\u001b[0m\n\u001b[0;32m     13\u001b[0m         \u001b[0mparticula_1\u001b[0m \u001b[1;33m=\u001b[0m \u001b[0mParticula\u001b[0m\u001b[1;33m(\u001b[0m\u001b[0mposicion\u001b[0m \u001b[1;33m=\u001b[0m \u001b[0mposicion_1\u001b[0m\u001b[1;33m,\u001b[0m \u001b[0mvelocidad\u001b[0m \u001b[1;33m=\u001b[0m \u001b[0mvelocidad_1\u001b[0m\u001b[1;33m,\u001b[0m \u001b[0mmasa\u001b[0m \u001b[1;33m=\u001b[0m \u001b[1;36m10\u001b[0m\u001b[1;33m)\u001b[0m\u001b[1;33m\u001b[0m\u001b[0m\n\u001b[1;32m---> 14\u001b[1;33m         \u001b[0mparticula_1\u001b[0m\u001b[1;33m.\u001b[0m\u001b[0mmover\u001b[0m\u001b[1;33m(\u001b[0m\u001b[0mforce_0\u001b[0m\u001b[1;33m[\u001b[0m\u001b[0mi\u001b[0m\u001b[1;33m]\u001b[0m\u001b[1;33m,\u001b[0m \u001b[0mdt_1\u001b[0m \u001b[1;33m-\u001b[0m \u001b[0mdt_0\u001b[0m\u001b[1;33m)\u001b[0m\u001b[1;33m\u001b[0m\u001b[0m\n\u001b[0m\u001b[0;32m     15\u001b[0m         \u001b[0mpos_x\u001b[0m\u001b[1;33m.\u001b[0m\u001b[0mappend\u001b[0m\u001b[1;33m(\u001b[0m\u001b[0mparticula_1\u001b[0m\u001b[1;33m.\u001b[0m\u001b[0mposicion_x\u001b[0m\u001b[1;33m)\u001b[0m\u001b[1;33m\u001b[0m\u001b[0m\n\u001b[0;32m     16\u001b[0m         \u001b[0mpos_y\u001b[0m\u001b[1;33m.\u001b[0m\u001b[0mappend\u001b[0m\u001b[1;33m(\u001b[0m\u001b[0mparticula_1\u001b[0m\u001b[1;33m.\u001b[0m\u001b[0mposicion_y\u001b[0m\u001b[1;33m)\u001b[0m\u001b[1;33m\u001b[0m\u001b[0m\n",
        "\u001b[1;32m<ipython-input-152-fe5f93758358>\u001b[0m in \u001b[0;36mmover\u001b[1;34m(self, fuerza, dt)\u001b[0m\n\u001b[0;32m     46\u001b[0m \u001b[1;33m\u001b[0m\u001b[0m\n\u001b[0;32m     47\u001b[0m     \u001b[1;32mdef\u001b[0m \u001b[0mmover\u001b[0m\u001b[1;33m(\u001b[0m\u001b[0mself\u001b[0m\u001b[1;33m,\u001b[0m \u001b[0mfuerza\u001b[0m\u001b[1;33m,\u001b[0m \u001b[0mdt\u001b[0m\u001b[1;33m)\u001b[0m\u001b[1;33m:\u001b[0m\u001b[1;33m\u001b[0m\u001b[0m\n\u001b[1;32m---> 48\u001b[1;33m         \u001b[0mself\u001b[0m\u001b[1;33m.\u001b[0m\u001b[0mN\u001b[0m \u001b[1;33m=\u001b[0m \u001b[0mlen\u001b[0m\u001b[1;33m(\u001b[0m\u001b[0mself\u001b[0m\u001b[1;33m.\u001b[0m\u001b[0mposicion_x\u001b[0m\u001b[1;33m)\u001b[0m\u001b[1;33m\u001b[0m\u001b[0m\n\u001b[0m\u001b[0;32m     49\u001b[0m         \u001b[0mself\u001b[0m\u001b[1;33m.\u001b[0m\u001b[0maceleracion_x\u001b[0m \u001b[1;33m=\u001b[0m \u001b[0mfuerza\u001b[0m\u001b[1;33m[\u001b[0m\u001b[1;36m0\u001b[0m\u001b[1;33m]\u001b[0m \u001b[1;33m/\u001b[0m \u001b[0mself\u001b[0m\u001b[1;33m.\u001b[0m\u001b[0mmasa\u001b[0m\u001b[1;33m\u001b[0m\u001b[0m\n\u001b[0;32m     50\u001b[0m         \u001b[0mself\u001b[0m\u001b[1;33m.\u001b[0m\u001b[0maceleracion_y\u001b[0m \u001b[1;33m=\u001b[0m \u001b[0mfuerza\u001b[0m\u001b[1;33m[\u001b[0m\u001b[1;36m1\u001b[0m\u001b[1;33m]\u001b[0m \u001b[1;33m/\u001b[0m \u001b[0mself\u001b[0m\u001b[1;33m.\u001b[0m\u001b[0mmasa\u001b[0m\u001b[1;33m\u001b[0m\u001b[0m\n",
        "\u001b[1;31mAttributeError\u001b[0m: Particula instance has no attribute 'posicion_x'"
       ]
      }
     ],
     "prompt_number": 155
    },
    {
     "cell_type": "code",
     "collapsed": false,
     "input": [
      "plt.scatter(a,b)"
     ],
     "language": "python",
     "metadata": {},
     "outputs": [
      {
       "metadata": {},
       "output_type": "pyout",
       "prompt_number": 83,
       "text": [
        "<matplotlib.collections.PathCollection at 0x7fc3e4994950>"
       ]
      },
      {
       "metadata": {},
       "output_type": "display_data",
       "png": "[encoded data removed]",
       "text": [
        "<matplotlib.figure.Figure at 0x7fc3e49a4c10>"
       ]
      }
     ],
     "prompt_number": 83
    },
    {
     "cell_type": "code",
     "collapsed": false,
     "input": [
      "plt.scatter(x,y)\n"
     ],
     "language": "python",
     "metadata": {},
     "outputs": [
      {
       "metadata": {},
       "output_type": "pyout",
       "prompt_number": 84,
       "text": [
        "<matplotlib.collections.PathCollection at 0x7fc3e48bedd0>"
       ]
      },
      {
       "metadata": {},
       "output_type": "display_data",
       "png": "[encoded data removed]",
       "text": [
        "<matplotlib.figure.Figure at 0x7fc3e49500d0>"
       ]
      }
     ],
     "prompt_number": 84
    },
    {
     "cell_type": "code",
     "collapsed": false,
     "input": [
      "plt.scatter(z,w)"
     ],
     "language": "python",
     "metadata": {},
     "outputs": [
      {
       "metadata": {},
       "output_type": "pyout",
       "prompt_number": 85,
       "text": [
        "<matplotlib.collections.PathCollection at 0x7fc3e47f9a10>"
       ]
      },
      {
       "metadata": {},
       "output_type": "display_data",
       "png": "[encoded data removed]",
       "text": [
        "<matplotlib.figure.Figure at 0x7fc3e48d6d90>"
       ]
      }
     ],
     "prompt_number": 85
    },
    {
     "cell_type": "code",
     "collapsed": false,
     "input": [
      "h = [[5,5], [3,4]]"
     ],
     "language": "python",
     "metadata": {},
     "outputs": [
      {
       "metadata": {},
       "output_type": "pyout",
       "prompt_number": 13,
       "text": [
        "[5, 5]"
       ]
      }
     ],
     "prompt_number": 13
    },
    {
     "cell_type": "code",
     "collapsed": false,
     "input": [
      "np.zeros([h])[h-1]"
     ],
     "language": "python",
     "metadata": {},
     "outputs": [
      {
       "metadata": {},
       "output_type": "pyout",
       "prompt_number": 108,
       "text": [
        "0.0"
       ]
      }
     ],
     "prompt_number": 108
    },
    {
     "cell_type": "code",
     "collapsed": false,
     "input": [
      "plt.scatter([np.array([1,2]), np.array([3,4])], [np.array([3,4]),np.array([5,6])])"
     ],
     "language": "python",
     "metadata": {},
     "outputs": [
      {
       "metadata": {},
       "output_type": "pyout",
       "prompt_number": 57,
       "text": [
        "<matplotlib.collections.PathCollection at 0x7fc3e50ff150>"
       ]
      },
      {
       "metadata": {},
       "output_type": "display_data",
       "png": "[encoded data removed]",
       "text": [
        "<matplotlib.figure.Figure at 0x7fc3e51d6610>"
       ]
      }
     ],
     "prompt_number": 57
    },
    {
     "cell_type": "code",
     "collapsed": false,
     "input": [],
     "language": "python",
     "metadata": {},
     "outputs": []
    }
   ],
   "metadata": {}
  }
 ]
}